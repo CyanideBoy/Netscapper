{
 "cells": [
  {
   "cell_type": "code",
   "execution_count": 1,
   "metadata": {},
   "outputs": [],
   "source": [
    "import bs4\n",
    "from urllib.request import urlopen as uReq\n",
    "from bs4 import BeautifulSoup as soup"
   ]
  },
  {
   "cell_type": "code",
   "execution_count": 2,
   "metadata": {},
   "outputs": [],
   "source": [
    "my_url = 'https://www.ee.iitb.ac.in/web/people/faculty'\n",
    "uClient = uReq(my_url)\n",
    "page_html = uClient.read()\n",
    "uClient.close()"
   ]
  },
  {
   "cell_type": "code",
   "execution_count": 3,
   "metadata": {},
   "outputs": [],
   "source": [
    "page_soup = soup(page_html,\"html.parser\")"
   ]
  },
  {
   "cell_type": "code",
   "execution_count": 22,
   "metadata": {},
   "outputs": [
    {
     "data": {
      "text/plain": [
       "2"
      ]
     },
     "execution_count": 22,
     "metadata": {},
     "output_type": "execute_result"
    }
   ],
   "source": [
    "ul_data = page_soup.findAll(\"ul\",{\"class\":\"facultyview\"})\n",
    "#print(ul_data)\n",
    "len(ul_data)"
   ]
  },
  {
   "cell_type": "code",
   "execution_count": 112,
   "metadata": {
    "scrolled": true
   },
   "outputs": [
    {
     "data": {
      "text/plain": [
       "45"
      ]
     },
     "execution_count": 112,
     "metadata": {},
     "output_type": "execute_result"
    }
   ],
   "source": [
    "filename = 'faculty_ee.csv'\n",
    "f = open(filename,'w')\n",
    "\n",
    "headers = \"Name, Email, Phone 1, Phone 2, Research Area\\n\"\n",
    "f.write(headers)\n"
   ]
  },
  {
   "cell_type": "code",
   "execution_count": 113,
   "metadata": {},
   "outputs": [
    {
     "data": {
      "text/plain": [
       "336"
      ]
     },
     "execution_count": 113,
     "metadata": {},
     "output_type": "execute_result"
    }
   ],
   "source": [
    "x = ul_data[0]\n",
    "name = x.li.a.text.strip()\n",
    "t = x.find(\"div\",{\"class\":\"ppe\"})\n",
    "contact = t.text.strip().split()\n",
    "research = x.find(\"li\",{\"class\":\"fac_ri\"}).text.strip()\n",
    "#print(name.strip())\n",
    "f.write(name.replace(\",\",\"_\") + \",\" + contact[4].replace(\",\",\"_\").replace('[AT]','@') + \",\" + contact[0] + \",\" + contact[2] + \",\" + research[21:].replace(',',' & ') +\"\\n\")"
   ]
  },
  {
   "cell_type": "code",
   "execution_count": 114,
   "metadata": {
    "scrolled": true
   },
   "outputs": [
    {
     "name": "stdout",
     "output_type": "stream",
     "text": [
      "0\n",
      "Vivek Agarwal\n",
      "2\n",
      "Kumar Appaiah\n",
      "4\n",
      "B. M. Arora\n",
      "6\n",
      "Maryam Shojaei Baghini\n",
      "8\n",
      "Himanshu  J. Bahirat\n",
      "10\n",
      "Madhu N. Belur\n",
      "12\n",
      "Vivek Shripad Borkar\n",
      "14\n",
      "Subhananda Chakrabarti\n",
      "16\n",
      "Debraj Chakraborty\n",
      "18\n",
      "Mukul C. Chandorkar\n",
      "19\n",
      "Prasanna Chaporkar\n",
      "21\n",
      "Kishore Chatterjee\n",
      "23\n",
      "Subhasis Chaudhuri\n",
      "25\n",
      "Madhav P.  Desai\n",
      "27\n",
      "Bikash Kumar Dey\n",
      "29\n",
      "Siddhartha P Duttagupta\n",
      "31\n",
      "Vikram M  Gadre\n",
      "33\n",
      "Swaroop Ganguly\n",
      "35\n",
      "Udayan Ganguly\n",
      "37\n",
      "Manoj Gopalkrishnan\n",
      "39\n",
      "Shalabh Gupta\n",
      "41\n",
      "Joseph John\n",
      "43\n",
      "K.L.Narasimhan\n",
      "45\n",
      "Nikhil Karamchandani\n",
      "47\n",
      "Abhay Karandikar\n",
      "49\n",
      "Gaurav S Kasbekar\n",
      "51\n",
      "Shrikrishna A. Khaparde\n",
      "53\n",
      "Anil Kottantharayil\n",
      "55\n",
      "Anupama Kowli\n",
      "57\n",
      "Anil Kulkarni\n",
      "59\n",
      "Shrikrishna        V. Kulkarni\n",
      "61\n",
      "Animesh Kumar\n",
      "63\n",
      "Girish Kumar\n",
      "65\n",
      "Apurba Laha\n",
      "67\n",
      "Saurabh Lodha\n",
      "69\n",
      "Souvik Mahapatra\n",
      "71\n",
      "D. Manjunath\n",
      "73\n",
      "Shabbir Merchant\n",
      "75\n",
      "Sharayu Moharir\n",
      "77\n",
      "Dwaipayan  Mukherjee\n",
      "79\n",
      "Jayanta Mukherjee\n",
      "81\n",
      "Pramod Murali\n",
      "83\n",
      "Bhaskaran  Muralidharan\n",
      "85\n",
      "Jayakrishnan U Nair\n",
      "87\n",
      "Pradeep R. Nair\n",
      "89\n",
      "Harihar Narayanan\n",
      "91\n",
      "Debasattam Pal\n",
      "93\n",
      "Prem C. Pandey\n",
      "95\n",
      "M. B. Patil\n",
      "97\n",
      "Sachin Patkar\n",
      "99\n",
      "Harish K. Pillai\n",
      "101\n",
      "Sibi Raj B Pillai\n",
      "103\n",
      "Preeti Rao\n",
      "105\n",
      "Valipe Ramgopal Rao\n",
      "107\n",
      "Dipankar Saha\n",
      "109\n",
      "Kasturi Saha\n",
      "111\n",
      "Amit Sethi\n",
      "113\n",
      "D. K. Sharma\n",
      "115\n",
      "R. K. Shevgaonkar\n",
      "117\n",
      "Narendra S Shiradkar\n",
      "119\n",
      "Anshuman Shukla\n",
      "121\n",
      "Virendra Singh\n",
      "123\n",
      "Shreevardhan A. Soman\n",
      "125\n",
      "Virendra R. Sule\n",
      "127\n",
      "Siddharth Tallur\n",
      "129\n",
      "Ashwin A. Tulapurkar\n",
      "131\n",
      "Juzer M. Vasi\n",
      "133\n",
      "Rajbabu Velmurugan\n",
      "135\n",
      "Saravanan Vijayakumaran\n",
      "137\n",
      "Rajesh H. Zele\n"
     ]
    }
   ],
   "source": [
    "containers = ul_data[1].findAll(\"li\")\n",
    "i=0\n",
    "\n",
    "while i<len(containers):\n",
    "    x = containers[i]\n",
    "    name = x.a.text.strip()\n",
    "    t = x.find(\"div\",{\"class\":\"ppe\"})\n",
    "    contact = t.text.strip().split()\n",
    "    if(containers[i+1].li is None):\n",
    "        research = containers[i+1].text.strip()\n",
    "        print(i)\n",
    "        i = i + 2\n",
    "        print(name)\n",
    "        if(len(contact)==5):\n",
    "            f.write(name.replace(\",\",\"_\") + \",\" + contact[4].replace(\",\",\"_\").replace('[AT]','@') + \",\" + contact[0] + \",\" + contact[2] + \",\" + research[21:].replace(',',' & ').replace('\\n',' & ').replace('\\r',' & ') +\"\\n\")\n",
    "        if(len(contact)==3):\n",
    "            f.write(name.replace(\",\",\"_\") + \",\" + contact[2].replace(\",\",\"_\").replace('[AT]','@') + \",\" + contact[0] + \",\" + \" \" + \",\" + research[21:].replace(',',' & ').replace('\\n',' & ').replace('\\r',' & ') +\"\\n\")\n",
    "    else:\n",
    "        research = ' '\n",
    "        print(i)\n",
    "        i = i + 1\n",
    "        print(name)\n",
    "        if(len(contact)==5):\n",
    "            f.write(name.replace(\",\",\"_\") + \",\" + contact[4].replace(\",\",\"_\").replace('[AT]','@') + \",\" + contact[0] + \",\" + contact[2] + \",\" + research[21:].replace(',',' & ').replace('\\n',' & ').replace('\\r',' & ') +\"\\n\")\n",
    "        if(len(contact)==3):\n",
    "            f.write(name.replace(\",\",\"_\") + \",\" + contact[2].replace(\",\",\"_\").replace('[AT]','@') + \",\" + contact[0] + \",\" + \" \" + \",\" + research[21:].replace(',',' & ').replace('\\n',' & ').replace('\\r',' & ') +\"\\n\")"
   ]
  },
  {
   "cell_type": "code",
   "execution_count": 115,
   "metadata": {},
   "outputs": [],
   "source": [
    "f.close()"
   ]
  }
 ],
 "metadata": {
  "kernelspec": {
   "display_name": "Python 3",
   "language": "python",
   "name": "python3"
  },
  "language_info": {
   "codemirror_mode": {
    "name": "ipython",
    "version": 3
   },
   "file_extension": ".py",
   "mimetype": "text/x-python",
   "name": "python",
   "nbconvert_exporter": "python",
   "pygments_lexer": "ipython3",
   "version": "3.6.5"
  }
 },
 "nbformat": 4,
 "nbformat_minor": 2
}
