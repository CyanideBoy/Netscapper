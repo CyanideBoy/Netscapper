{
 "cells": [
  {
   "cell_type": "code",
   "execution_count": 1,
   "metadata": {},
   "outputs": [],
   "source": [
    "import bs4\n",
    "from urllib.request import urlopen as uReq\n",
    "from bs4 import BeautifulSoup as soup"
   ]
  },
  {
   "cell_type": "code",
   "execution_count": 2,
   "metadata": {},
   "outputs": [],
   "source": [
    "my_url = 'https://www.cse.iitb.ac.in/page14'\n",
    "uClient = uReq(my_url)\n",
    "page_html = uClient.read()\n",
    "uClient.close()"
   ]
  },
  {
   "cell_type": "code",
   "execution_count": 3,
   "metadata": {},
   "outputs": [],
   "source": [
    "page_soup = soup(page_html,\"html.parser\")"
   ]
  },
  {
   "cell_type": "code",
   "execution_count": 53,
   "metadata": {},
   "outputs": [
    {
     "name": "stdout",
     "output_type": "stream",
     "text": [
      "varsha\n",
      "IA-408, Kanwal Rekhi Building\n"
     ]
    }
   ],
   "source": [
    "r1 = page_soup.findAll(\"tr\",{\"class\":\"row1\"})\n",
    "r2 = page_soup.findAll(\"tr\",{\"class\":\"row2\"})\n",
    "print(r1[0].tr.nextSibling.td.nextSibling.find('img').previousSibling)\n",
    "z = r1[0].findAll(\"td\",{\"colspan\":\"3\"})\n",
    "k=z[1].text\n",
    "print(k.strip()[18:])"
   ]
  },
  {
   "cell_type": "code",
   "execution_count": 57,
   "metadata": {},
   "outputs": [
    {
     "data": {
      "text/plain": [
       "42"
      ]
     },
     "execution_count": 57,
     "metadata": {},
     "output_type": "execute_result"
    }
   ],
   "source": [
    "filename = 'faculty_cse.csv'\n",
    "f = open(filename,'w')\n",
    "\n",
    "headers = \"Name, Email, Phone, Office, Research Area\\n\"\n",
    "f.write(headers)\n"
   ]
  },
  {
   "cell_type": "code",
   "execution_count": 58,
   "metadata": {},
   "outputs": [
    {
     "name": "stdout",
     "output_type": "stream",
     "text": [
      "Varsha Apte\n",
      "Suyash P. Awate\n",
      "Pushpak Bhattacharya (Currently on lien at IIT Patna)\n",
      "Supratik Chakraborty\n",
      "Siddhartha Chaudhuri\n",
      "Kameswari Chebrolu\n",
      "Ajit A Diwan\n",
      "Ashutosh Gupta\n",
      "Sridhar Iyer\n",
      "Preethi Jyothi\n",
      "Uday Khedker (Department Head)\n",
      "Nutan Limaye\n",
      "Manoj Prabhakaran\n",
      "Krithi Ramamritham\n",
      "Ganesh Ramkrishnan\n",
      "Krishna S\n",
      "Amitabha Sanyal\n",
      "G. Sivakumar\n",
      "S. Sudarshan\n",
      "Mythili Vutukuru\n",
      "R.K  Shyamasundar\n",
      "Bharat Adsul\n",
      "Kavi Arya\n",
      "Umesh Bellur\n",
      "Soumen Chakrabarti\n",
      "Sharat Chandran\n",
      "Parag Chaudhuri\n",
      "Om P. Damani\n",
      "Ashwin Gumaste\n",
      "Rohit Gurjar\n",
      "Rushikesh K. Joshi\n",
      "Shivaram Kalyanakrishnan\n",
      "Purushottam Kulkarni\n",
      "Bernard Menezes\n",
      "Ajit Rajwade\n",
      "Bhaskar Raman\n",
      "Abhiram Ranade\n",
      "Akshay S.\n",
      "Sunita Sarawagi\n",
      "Milind Sohoni\n",
      "Sundar Vishwanathan\n",
      "Arjun Jain\n",
      "Vinay Ribeiro\n",
      "Supratim Biswas\n"
     ]
    }
   ],
   "source": [
    "for x in r1:\n",
    "    name = x.a.text.strip()\n",
    "    t = x.findAll(\"td\",{\"colspan\":\"3\"})\n",
    "    contact = t[2].text.split()[2]\n",
    "    office = t[1].text.strip()\n",
    "    research = t[0].text.strip()[20:]\n",
    "    email = x.tr.nextSibling.td.nextSibling.find('img').previousSibling\n",
    "    email = email+'@cse.iitb.ac.in'\n",
    "    print(name)\n",
    "    f.write(name.replace(\",\",\"_\") + \",\" + email + \",\" + contact + \",\" + office.replace(',',' ').replace('\\n',' ').replace('\\r',' ') + \",\" + research.replace(',',' & ').replace('\\n',' & ').replace('\\r',' & ') +\"\\n\")\n",
    "\n",
    "for x in r2:\n",
    "    name = x.a.text.strip()\n",
    "    t = x.findAll(\"td\",{\"colspan\":\"3\"})\n",
    "    \n",
    "    if(len(t) is 2):\n",
    "        contact = ' '\n",
    "        office = t[1].text.strip()\n",
    "    elif(len(t) is 3):\n",
    "        contact = t[2].text.split()[2]\n",
    "        office = t[1].text.strip()\n",
    "    elif(len(t) is 1):\n",
    "        contact = ' '\n",
    "        office = ' '\n",
    "    \n",
    "    research = t[0].text.strip()[20:]\n",
    "    email = x.tr.nextSibling.td.nextSibling.find('img').previousSibling\n",
    "    email = email+'@cse.iitb.ac.in'\n",
    "    print(name)\n",
    "    f.write(name.replace(\",\",\"_\") + \",\" + email + \",\" + contact + \",\" + office.replace(',',' ').replace('\\n',' ').replace('\\r',' ') + \",\" + research.replace(',',' & ').replace('\\n',' & ').replace('\\r',' & ') +\"\\n\")\n"
   ]
  },
  {
   "cell_type": "code",
   "execution_count": 59,
   "metadata": {},
   "outputs": [],
   "source": [
    "f.close()"
   ]
  },
  {
   "cell_type": "code",
   "execution_count": null,
   "metadata": {},
   "outputs": [],
   "source": []
  }
 ],
 "metadata": {
  "kernelspec": {
   "display_name": "Python 3",
   "language": "python",
   "name": "python3"
  },
  "language_info": {
   "codemirror_mode": {
    "name": "ipython",
    "version": 3
   },
   "file_extension": ".py",
   "mimetype": "text/x-python",
   "name": "python",
   "nbconvert_exporter": "python",
   "pygments_lexer": "ipython3",
   "version": "3.6.5"
  }
 },
 "nbformat": 4,
 "nbformat_minor": 2
}
